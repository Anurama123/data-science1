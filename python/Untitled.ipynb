{
 "cells": [
  {
   "cell_type": "code",
   "execution_count": 1,
   "id": "78c637d9-cee3-4671-8d5c-2ca2452666a8",
   "metadata": {},
   "outputs": [
    {
     "name": "stdout",
     "output_type": "stream",
     "text": [
      "hello data science world\n"
     ]
    }
   ],
   "source": [
    "print(\"hello data science world\")"
   ]
  },
  {
   "cell_type": "code",
   "execution_count": 2,
   "id": "3bc688d4-ca4f-427f-bc5f-f5114df3910d",
   "metadata": {},
   "outputs": [
    {
     "data": {
      "text/plain": [
       "50"
      ]
     },
     "execution_count": 2,
     "metadata": {},
     "output_type": "execute_result"
    }
   ],
   "source": [
    "24+26"
   ]
  },
  {
   "cell_type": "code",
   "execution_count": 3,
   "id": "41259596-8dd0-450d-bdd7-a44822d3f769",
   "metadata": {},
   "outputs": [
    {
     "name": "stdout",
     "output_type": "stream",
     "text": [
      "hello rama sharma\n"
     ]
    }
   ],
   "source": [
    "print(\"hello rama sharma\")"
   ]
  },
  {
   "cell_type": "markdown",
   "id": "a7c48687-a78a-4415-8468-c01f020c58ae",
   "metadata": {},
   "source": [
    "short cuts\n",
    "esc+b to add cell below the current cell\n",
    "esc+a to add cell above the current cell"
   ]
  },
  {
   "cell_type": "code",
   "execution_count": null,
   "id": "bcf0f271-23fc-423c-bc32-cd0e66f189c2",
   "metadata": {},
   "outputs": [],
   "source": []
  }
 ],
 "metadata": {
  "kernelspec": {
   "display_name": "Python 3 (ipykernel)",
   "language": "python",
   "name": "python3"
  },
  "language_info": {
   "codemirror_mode": {
    "name": "ipython",
    "version": 3
   },
   "file_extension": ".py",
   "mimetype": "text/x-python",
   "name": "python",
   "nbconvert_exporter": "python",
   "pygments_lexer": "ipython3",
   "version": "3.11.7"
  }
 },
 "nbformat": 4,
 "nbformat_minor": 5
}
