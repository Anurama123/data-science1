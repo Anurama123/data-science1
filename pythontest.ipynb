{
 "cells": [
  {
   "cell_type": "code",
   "execution_count": 18,
   "id": "629b7e6f-09d4-422d-9175-2bfebf8b2c1c",
   "metadata": {},
   "outputs": [],
   "source": [
    "gender=['male','female']"
   ]
  },
  {
   "cell_type": "code",
   "execution_count": 19,
   "id": "3c1ee5a1-e6b5-4b1e-81b8-7013d43a5dda",
   "metadata": {},
   "outputs": [
    {
     "data": {
      "text/plain": [
       "['male', 'female']"
      ]
     },
     "execution_count": 19,
     "metadata": {},
     "output_type": "execute_result"
    }
   ],
   "source": [
    "gender"
   ]
  },
  {
   "cell_type": "code",
   "execution_count": 24,
   "id": "8bb621b6-81ca-47a0-8466-5866b9893a8f",
   "metadata": {},
   "outputs": [],
   "source": [
    "date_of_birth=['1970-1990', '1990-2000']"
   ]
  },
  {
   "cell_type": "code",
   "execution_count": 25,
   "id": "8c3c0568-9b19-453e-aa51-e1abaabbf96f",
   "metadata": {},
   "outputs": [
    {
     "name": "stdout",
     "output_type": "stream",
     "text": [
      "['1970-1990', '1990-2000']\n"
     ]
    }
   ],
   "source": [
    "print (date_of_birth)"
   ]
  },
  {
   "cell_type": "code",
   "execution_count": 26,
   "id": "66928c10-8526-4679-9154-3204479dab3e",
   "metadata": {},
   "outputs": [],
   "source": [
    "smoker=['yes','no']"
   ]
  },
  {
   "cell_type": "code",
   "execution_count": 27,
   "id": "51d3c604-79e4-4317-898d-43c4f48a6c4c",
   "metadata": {},
   "outputs": [
    {
     "name": "stdout",
     "output_type": "stream",
     "text": [
      "['yes', 'no']\n"
     ]
    }
   ],
   "source": [
    "print (smoker)"
   ]
  },
  {
   "cell_type": "code",
   "execution_count": 36,
   "id": "606ebbbe-8d63-4e0f-b253-0293515a2cf8",
   "metadata": {},
   "outputs": [
    {
     "ename": "IndentationError",
     "evalue": "unexpected indent (3911232963.py, line 3)",
     "output_type": "error",
     "traceback": [
      "\u001b[1;36m  Cell \u001b[1;32mIn[36], line 3\u001b[1;36m\u001b[0m\n\u001b[1;33m    if date_of_birth =['1970-1990']\u001b[0m\n\u001b[1;37m    ^\u001b[0m\n\u001b[1;31mIndentationError\u001b[0m\u001b[1;31m:\u001b[0m unexpected indent\n"
     ]
    }
   ],
   "source": [
    "for val in gender:\n",
    "  gender=='male'\n",
    "    if date_of_birth =['1970-1990']\n",
    "elif smoker==yes\n",
    "   print (\"your annual premium is 35000\")\n",
    "else \n",
    "   print (35000*90%)"
   ]
  },
  {
   "cell_type": "code",
   "execution_count": null,
   "id": "d3810509-106e-42bf-89ac-a8744e75d982",
   "metadata": {},
   "outputs": [],
   "source": [
    "getting error\n",
    "kindly advise"
   ]
  },
  {
   "cell_type": "code",
   "execution_count": 40,
   "id": "2c5392ff-0b66-4304-b0c3-8fe33fd00d21",
   "metadata": {},
   "outputs": [
    {
     "ename": "SyntaxError",
     "evalue": "expected '(' (2422853245.py, line 1)",
     "output_type": "error",
     "traceback": [
      "\u001b[1;36m  Cell \u001b[1;32mIn[40], line 1\u001b[1;36m\u001b[0m\n\u001b[1;33m    def health_premium=('gender','date_of_birth', 'smoker')\u001b[0m\n\u001b[1;37m                      ^\u001b[0m\n\u001b[1;31mSyntaxError\u001b[0m\u001b[1;31m:\u001b[0m expected '('\n"
     ]
    }
   ],
   "source": [
    "def health_premium=('gender','date_of_birth', 'smoker')\n",
    " gender=('male','female')\n",
    " date_of_birth('1970-1990','1990-2000')\n",
    " smoker('yes','no')   \n",
    "    if gender==male and smoker==yes and date_of_birth==1970-1990\n",
    "        print(\"your premium is 35000\")\n",
    "    else (your premium is, 35000*90%)\n",
    "                "
   ]
  },
  {
   "cell_type": "code",
   "execution_count": null,
   "id": "91dd31c5-5ce7-473b-8e2f-8341d94ec8a5",
   "metadata": {},
   "outputs": [],
   "source": []
  }
 ],
 "metadata": {
  "kernelspec": {
   "display_name": "Python 3 (ipykernel)",
   "language": "python",
   "name": "python3"
  },
  "language_info": {
   "codemirror_mode": {
    "name": "ipython",
    "version": 3
   },
   "file_extension": ".py",
   "mimetype": "text/x-python",
   "name": "python",
   "nbconvert_exporter": "python",
   "pygments_lexer": "ipython3",
   "version": "3.11.7"
  }
 },
 "nbformat": 4,
 "nbformat_minor": 5
}
